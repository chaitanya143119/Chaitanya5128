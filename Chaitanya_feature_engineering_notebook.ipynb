{
 "cells": [
  {
   "cell_type": "code",
   "execution_count": 10,
   "id": "d3d0109b-5fc5-4239-ac29-b0a46d5da079",
   "metadata": {},
   "outputs": [],
   "source": [
    "import pandas as pd\n",
    "from sklearn.model_selection import train_test_split\n",
    "from sklearn.preprocessing import StandardScaler, OneHotEncoder\n",
    "from sklearn.compose import ColumnTransformer\n",
    "from sklearn.pipeline import Pipeline\n",
    "from sklearn.linear_model import LogisticRegression\n",
    "from sklearn.metrics import accuracy_score, precision_score, recall_score, f1_score, classification_report"
   ]
  },
  {
   "cell_type": "code",
   "execution_count": 12,
   "id": "25e97312-e6aa-494b-a37c-0e4ec036cee1",
   "metadata": {},
   "outputs": [
    {
     "name": "stdout",
     "output_type": "stream",
     "text": [
      "   Flight ID    Airline  Flight_Distance Origin_Airport Destination_Airport  \\\n",
      "0  7319483.0  Airline D            475.0      Airport 3           Airport 2   \n",
      "1  4791965.0  Airline E            538.0      Airport 5           Airport 4   \n",
      "2  2991718.0  Airline C            565.0      Airport 1           Airport 2   \n",
      "3  4220106.0  Airline E            658.0      Airport 5           Airport 3   \n",
      "4  2263008.0  Airline E            566.0      Airport 2           Airport 2   \n",
      "\n",
      "   Scheduled_Departure_Time  Day_of_Week  Month Airplane_Type  Weather_Score  \\\n",
      "0                       4.0          6.0    1.0        Type C       0.225122   \n",
      "1                      12.0          1.0    6.0        Type B       0.060346   \n",
      "2                      17.0          3.0    9.0        Type C       0.093920   \n",
      "3                       1.0          1.0    8.0        Type B       0.656750   \n",
      "4                      19.0          7.0   12.0        Type E       0.505211   \n",
      "\n",
      "   Previous_Flight_Delay_Minutes  Airline_Rating  Passenger_Load  \\\n",
      "0                            5.0        2.151974        0.477202   \n",
      "1                           68.0        1.600779        0.159718   \n",
      "2                           18.0        4.406848        0.256803   \n",
      "3                           13.0        0.998757        0.504077   \n",
      "4                            4.0        3.806206        0.019638   \n",
      "\n",
      "   Flight_Cancelled  \n",
      "0               0.0  \n",
      "1               1.0  \n",
      "2               0.0  \n",
      "3               1.0  \n",
      "4               0.0  \n",
      "<class 'pandas.core.frame.DataFrame'>\n",
      "RangeIndex: 3220 entries, 0 to 3219\n",
      "Data columns (total 14 columns):\n",
      " #   Column                         Non-Null Count  Dtype  \n",
      "---  ------                         --------------  -----  \n",
      " 0   Flight ID                      3220 non-null   float64\n",
      " 1   Airline                        3220 non-null   object \n",
      " 2   Flight_Distance                3220 non-null   float64\n",
      " 3   Origin_Airport                 3220 non-null   object \n",
      " 4   Destination_Airport            3220 non-null   object \n",
      " 5   Scheduled_Departure_Time       3220 non-null   float64\n",
      " 6   Day_of_Week                    3220 non-null   float64\n",
      " 7   Month                          3220 non-null   float64\n",
      " 8   Airplane_Type                  3220 non-null   object \n",
      " 9   Weather_Score                  3220 non-null   float64\n",
      " 10  Previous_Flight_Delay_Minutes  3220 non-null   float64\n",
      " 11  Airline_Rating                 3220 non-null   float64\n",
      " 12  Passenger_Load                 3220 non-null   float64\n",
      " 13  Flight_Cancelled               3220 non-null   float64\n",
      "dtypes: float64(10), object(4)\n",
      "memory usage: 352.3+ KB\n",
      "None\n"
     ]
    }
   ],
   "source": [
    "# Step 2: Load the Dataset\n",
    "df = pd.read_csv(\"C:/Users/jasmi/Downloads/Jasmithareddy_data_cleaned_preprocessed.csv\")  # Replace with your actual file\n",
    "print(df.head())\n",
    "print(df.info())"
   ]
  },
  {
   "cell_type": "code",
   "execution_count": 13,
   "id": "655684ff-d1f2-47da-a68f-584a5a2c995e",
   "metadata": {},
   "outputs": [],
   "source": [
    "# Ensure the Cancelled column is binary (0 or 1)\n",
    "df[\"Flight_Cancelled\"] = df[\"Flight_Cancelled\"].astype(int)  # or use .map() if needed\n",
    "\n",
    "# Step 3: Separate Features and Target\n",
    "X = df.drop(\"Flight_Cancelled\", axis=1)   # Target: Cancelled (0 or 1)\n",
    "y = df[\"Flight_Cancelled\"]\n",
    "\n",
    "# Step 4: Identify Categorical and Numerical Columns\n",
    "categorical_cols = X.select_dtypes(include=[\"object\", \"category\"]).columns.tolist()\n",
    "numerical_cols = X.select_dtypes(include=[\"int64\", \"float64\"]).columns.tolist()\n",
    "\n",
    "# Step 5: Split the Data into Training and Test Sets\n",
    "X_train, X_test, y_train, y_test = train_test_split(\n",
    "    X, y, test_size=0.2, random_state=42, stratify=y\n",
    ")\n",
    "\n",
    "# Step 6: Preprocessing Pipelines\n",
    "# - OneHotEncode categorical columns\n",
    "# - Scale numerical columns\n",
    "categorical_transformer = OneHotEncoder(handle_unknown=\"ignore\")\n",
    "numerical_transformer = StandardScaler()\n",
    "\n",
    "preprocessor = ColumnTransformer(\n",
    "    transformers=[\n",
    "        (\"num\", numerical_transformer, numerical_cols),\n",
    "        (\"cat\", categorical_transformer, categorical_cols)\n",
    "    ]\n",
    ")\n",
    "\n",
    "# Step 7: Create the Modeling Pipeline\n",
    "model = Pipeline(steps=[\n",
    "    (\"preprocessor\", preprocessor),\n",
    "    (\"classifier\", LogisticRegression(max_iter=1000))\n",
    "])\n",
    "\n",
    "# Step 8: Train the Logistic Regression Model\n",
    "model.fit(X_train, y_train)\n",
    "\n",
    "# Step 9: Make Predictions\n",
    "y_pred = model.predict(X_test)"
   ]
  },
  {
   "cell_type": "code",
   "execution_count": 14,
   "id": "0c66699a-986d-4700-84d2-0b47d51fb360",
   "metadata": {},
   "outputs": [
    {
     "name": "stdout",
     "output_type": "stream",
     "text": [
      "Accuracy: 0.7220496894409938\n",
      "Precision: 0.7616926503340757\n",
      "Recall: 0.8260869565217391\n",
      "F1 Score: 0.7925840092699884\n",
      "\n",
      "Classification Report:\n",
      "               precision    recall  f1-score   support\n",
      "\n",
      "           0       0.63      0.53      0.58       230\n",
      "           1       0.76      0.83      0.79       414\n",
      "\n",
      "    accuracy                           0.72       644\n",
      "   macro avg       0.70      0.68      0.69       644\n",
      "weighted avg       0.71      0.72      0.72       644\n",
      "\n"
     ]
    }
   ],
   "source": [
    "#Step-10\n",
    "print(\"Accuracy:\", accuracy_score(y_test, y_pred))\n",
    "print(\"Precision:\", precision_score(y_test, y_pred))\n",
    "print(\"Recall:\", recall_score(y_test, y_pred))\n",
    "print(\"F1 Score:\", f1_score(y_test, y_pred))\n",
    "print(\"\\nClassification Report:\\n\", classification_report(y_test, y_pred))"
   ]
  },
  {
   "cell_type": "code",
   "execution_count": 17,
   "id": "a796e25b-52e1-4975-9144-c80c03ba5e47",
   "metadata": {},
   "outputs": [],
   "source": [
    "# Fit the preprocessor on the full dataset (before train/test split)\n",
    "X_transformed = preprocessor.fit_transform(X)\n",
    "\n",
    "# Get feature names after transformation\n",
    "encoded_feature_names = preprocessor.get_feature_names_out()\n",
    "\n",
    "# Create DataFrame from the NumPy array\n",
    "X_transformed_df = pd.DataFrame(X_transformed, columns=encoded_feature_names)\n",
    "\n",
    "# Add target column\n",
    "X_transformed_df[\"Flight_Cancelled\"] = y.values\n",
    "\n",
    "# Save to CSV\n",
    "X_transformed_df.to_csv(\"C:/Users/jasmi/Downloads/hfd.csv\", index=False)\n"
   ]
  },
  {
   "cell_type": "code",
   "execution_count": null,
   "id": "76259a00-e3fe-4ca5-b517-acc67c92ae21",
   "metadata": {},
   "outputs": [],
   "source": []
  },
  {
   "cell_type": "code",
   "execution_count": null,
   "id": "b56a021b-bc7e-4e76-98f8-5f5d5ac989e8",
   "metadata": {},
   "outputs": [],
   "source": []
  }
 ],
 "metadata": {
  "kernelspec": {
   "display_name": "Python 3 (ipykernel)",
   "language": "python",
   "name": "python3"
  },
  "language_info": {
   "codemirror_mode": {
    "name": "ipython",
    "version": 3
   },
   "file_extension": ".py",
   "mimetype": "text/x-python",
   "name": "python",
   "nbconvert_exporter": "python",
   "pygments_lexer": "ipython3",
   "version": "3.11.7"
  }
 },
 "nbformat": 4,
 "nbformat_minor": 5
}
