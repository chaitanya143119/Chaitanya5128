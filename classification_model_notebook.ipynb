{
 "cells": [
  {
   "cell_type": "code",
   "execution_count": 24,
   "id": "b753d586-caac-401a-8070-bbc593765e50",
   "metadata": {},
   "outputs": [],
   "source": [
    "from sklearn.pipeline import Pipeline\n",
    "from sklearn.linear_model import LogisticRegression\n",
    "from sklearn.tree import DecisionTreeClassifier\n",
    "from sklearn.ensemble import RandomForestClassifier\n",
    "from sklearn.svm import SVC\n",
    "from sklearn.metrics import accuracy_score, precision_score, recall_score, f1_score, classification_report, confusion_matrix\n",
    "import pandas as pd\n",
    "import numpy as np"
   ]
  },
  {
   "cell_type": "code",
   "execution_count": 25,
   "id": "fc82fdeb-1762-4837-8b1a-12fafff4329d",
   "metadata": {},
   "outputs": [],
   "source": [
    "df = pd.read_csv(\"C:/Users/jasmi/Downloads/Jasmithareddy_data_cleaned_preprocessed.csv\")"
   ]
  },
  {
   "cell_type": "code",
   "execution_count": 32,
   "id": "115dceba-f9e9-4947-87af-1072a024be3f",
   "metadata": {},
   "outputs": [],
   "source": [
    "df[\"Flight_Cancelled\"] = df[\"Flight_Cancelled\"].astype(int)  # or use .map() if needed\n",
    "\n",
    "# Step 3: Separate Features and Target\n",
    "X = df.drop(\"Flight_Cancelled\", axis=1)   # Target: Cancelled (0 or 1)\n",
    "y = df[\"Flight_Cancelled\"]\n",
    "\n",
    "# Step 5: Split the Data into Training and Test Sets\n",
    "X_train, X_test, y_train, y_test = train_test_split(\n",
    "    X, y, test_size=0.2, random_state=42, stratify=y\n",
    ")\n",
    "\n",
    "# Step 6: Preprocessing Pipelines\n",
    "# - OneHotEncode categorical columns\n",
    "# - Scale numerical columns\n",
    "categorical_transformer = OneHotEncoder(handle_unknown=\"ignore\")\n",
    "numerical_transformer = StandardScaler()\n",
    "\n",
    "preprocessor = ColumnTransformer(\n",
    "    transformers=[\n",
    "        (\"num\", numerical_transformer, numerical_cols),\n",
    "        (\"cat\", categorical_transformer, categorical_cols)\n",
    "    ]\n",
    ")\n",
    "\n",
    "# Step 7: Create the Modeling Pipeline\n",
    "model = Pipeline(steps=[\n",
    "    (\"preprocessor\", preprocessor),\n",
    "    (\"classifier\", LogisticRegression(max_iter=1000))\n",
    "])\n"
   ]
  },
  {
   "cell_type": "code",
   "execution_count": 33,
   "id": "4d3aa730-4c33-4a05-bb1c-c8a0f530c4df",
   "metadata": {},
   "outputs": [],
   "source": [
    "results = []\n",
    "\n",
    "for name, model in models.items():\n",
    "    pipeline = Pipeline(steps=[\n",
    "        (\"preprocessor\", preprocessor),\n",
    "        (\"classifier\", model)\n",
    "    ])\n",
    "    \n",
    "    pipeline.fit(X_train, y_train)\n",
    "    y_pred = pipeline.predict(X_test)\n",
    "    \n",
    "    # Calculate metrics\n",
    "    accuracy = accuracy_score(y_test, y_pred)\n",
    "    precision = precision_score(y_test, y_pred)\n",
    "    recall = recall_score(y_test, y_pred)\n",
    "    f1 = f1_score(y_test, y_pred)\n",
    "    \n",
    "    results.append({\n",
    "        \"Model\": name,\n",
    "        \"Accuracy\": round(accuracy, 4),\n",
    "        \"Precision\": round(precision, 4),\n",
    "        \"Recall\": round(recall, 4),\n",
    "        \"F1 Score\": round(f1, 4)\n",
    "    })\n"
   ]
  },
  {
   "cell_type": "code",
   "execution_count": 34,
   "id": "4ad3338a-83fd-4847-bcf2-b2d665ff0b77",
   "metadata": {},
   "outputs": [
    {
     "data": {
      "text/html": [
       "<div>\n",
       "<style scoped>\n",
       "    .dataframe tbody tr th:only-of-type {\n",
       "        vertical-align: middle;\n",
       "    }\n",
       "\n",
       "    .dataframe tbody tr th {\n",
       "        vertical-align: top;\n",
       "    }\n",
       "\n",
       "    .dataframe thead th {\n",
       "        text-align: right;\n",
       "    }\n",
       "</style>\n",
       "<table border=\"1\" class=\"dataframe\">\n",
       "  <thead>\n",
       "    <tr style=\"text-align: right;\">\n",
       "      <th></th>\n",
       "      <th>Model</th>\n",
       "      <th>Accuracy</th>\n",
       "      <th>Precision</th>\n",
       "      <th>Recall</th>\n",
       "      <th>F1 Score</th>\n",
       "    </tr>\n",
       "  </thead>\n",
       "  <tbody>\n",
       "    <tr>\n",
       "      <th>2</th>\n",
       "      <td>Random Forest</td>\n",
       "      <td>0.9829</td>\n",
       "      <td>0.9927</td>\n",
       "      <td>0.9807</td>\n",
       "      <td>0.9866</td>\n",
       "    </tr>\n",
       "    <tr>\n",
       "      <th>1</th>\n",
       "      <td>Decision Tree</td>\n",
       "      <td>0.9658</td>\n",
       "      <td>0.9667</td>\n",
       "      <td>0.9807</td>\n",
       "      <td>0.9736</td>\n",
       "    </tr>\n",
       "    <tr>\n",
       "      <th>3</th>\n",
       "      <td>Support Vector Machine</td>\n",
       "      <td>0.7220</td>\n",
       "      <td>0.7605</td>\n",
       "      <td>0.8285</td>\n",
       "      <td>0.7931</td>\n",
       "    </tr>\n",
       "    <tr>\n",
       "      <th>0</th>\n",
       "      <td>Logistic Regression</td>\n",
       "      <td>0.7220</td>\n",
       "      <td>0.7617</td>\n",
       "      <td>0.8261</td>\n",
       "      <td>0.7926</td>\n",
       "    </tr>\n",
       "  </tbody>\n",
       "</table>\n",
       "</div>"
      ],
      "text/plain": [
       "                    Model  Accuracy  Precision  Recall  F1 Score\n",
       "2           Random Forest    0.9829     0.9927  0.9807    0.9866\n",
       "1           Decision Tree    0.9658     0.9667  0.9807    0.9736\n",
       "3  Support Vector Machine    0.7220     0.7605  0.8285    0.7931\n",
       "0     Logistic Regression    0.7220     0.7617  0.8261    0.7926"
      ]
     },
     "execution_count": 34,
     "metadata": {},
     "output_type": "execute_result"
    }
   ],
   "source": [
    "results_df = pd.DataFrame(results)\n",
    "results_df.sort_values(by=\"F1 Score\", ascending=False)"
   ]
  },
  {
   "cell_type": "code",
   "execution_count": 35,
   "id": "b5f2335f-8466-4896-ad91-8ea083afe425",
   "metadata": {},
   "outputs": [
    {
     "name": "stdout",
     "output_type": "stream",
     "text": [
      "Classification Report for Random Forest:\n",
      "              precision    recall  f1-score   support\n",
      "\n",
      "           0       0.63      0.53      0.58       230\n",
      "           1       0.76      0.83      0.79       414\n",
      "\n",
      "    accuracy                           0.72       644\n",
      "   macro avg       0.70      0.68      0.68       644\n",
      "weighted avg       0.71      0.72      0.72       644\n",
      "\n"
     ]
    }
   ],
   "source": [
    "print(\"Classification Report for Random Forest:\")\n",
    "print(classification_report(y_test, pipeline.predict(X_test)))"
   ]
  },
  {
   "cell_type": "code",
   "execution_count": null,
   "id": "d071625b-2dfa-4416-b62d-7bf628935065",
   "metadata": {},
   "outputs": [],
   "source": [
    "** Interpretation\n",
    "-> Random Forest clearly outperforms all other models on every metric.\n",
    "\n",
    "-> Decision Tree also performs very well and is easier to interpret than Random Forest, though slightly less accurate.\n",
    "\n",
    "-> SVM and Logistic Regression have identical accuracy and comparable F1 scores, but both are far behind the tree-based models.\n",
    "\n",
    "** Model Recommendation\n",
    "✅ Recommended Model: Random Forest\n",
    "    \n",
    "-> Highest Accuracy and F1 Score — Indicates strong overall performance.\n",
    "\n",
    "-> Excellent Precision and Recall — Balanced performance on both false positives and false negatives.\n",
    "\n",
    "-> Robustness — Less prone to overfitting compared to a single Decision Tree.\n"
   ]
  },
  {
   "cell_type": "code",
   "execution_count": null,
   "id": "af66cd89-6868-4326-b987-e2cec2038b22",
   "metadata": {},
   "outputs": [],
   "source": []
  },
  {
   "cell_type": "code",
   "execution_count": null,
   "id": "29ebc719-3005-4acb-a3c0-eb7ce03584f3",
   "metadata": {},
   "outputs": [],
   "source": []
  }
 ],
 "metadata": {
  "kernelspec": {
   "display_name": "Python 3 (ipykernel)",
   "language": "python",
   "name": "python3"
  },
  "language_info": {
   "codemirror_mode": {
    "name": "ipython",
    "version": 3
   },
   "file_extension": ".py",
   "mimetype": "text/x-python",
   "name": "python",
   "nbconvert_exporter": "python",
   "pygments_lexer": "ipython3",
   "version": "3.11.7"
  }
 },
 "nbformat": 4,
 "nbformat_minor": 5
}
